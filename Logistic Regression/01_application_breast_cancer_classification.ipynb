{
  "nbformat": 4,
  "nbformat_minor": 0,
  "metadata": {
    "colab": {
      "provenance": [],
      "authorship_tag": "ABX9TyMOIMa0TjlUqNFKJaO1ewfx",
      "include_colab_link": true
    },
    "kernelspec": {
      "name": "python3",
      "display_name": "Python 3"
    },
    "language_info": {
      "name": "python"
    }
  },
  "cells": [
    {
      "cell_type": "markdown",
      "metadata": {
        "id": "view-in-github",
        "colab_type": "text"
      },
      "source": [
        "<a href=\"https://colab.research.google.com/github/kmk4444/Miuul_deep_learning/blob/main/Logistic%20Regression/01_application_breast_cancer_classification.ipynb\" target=\"_parent\"><img src=\"https://colab.research.google.com/assets/colab-badge.svg\" alt=\"Open In Colab\"/></a>"
      ]
    },
    {
      "cell_type": "markdown",
      "source": [
        "# Problem: Breast Cancer Classification"
      ],
      "metadata": {
        "id": "yUA2qPA_zf45"
      }
    },
    {
      "cell_type": "markdown",
      "source": [
        "# Import"
      ],
      "metadata": {
        "id": "4LCAtv66zibZ"
      }
    },
    {
      "cell_type": "code",
      "source": [
        "import numpy as np\n",
        "import pandas as pd\n",
        "import matplotlib.pyplot as plt\n",
        "import seaborn as sns\n",
        "from sklearn.datasets import load_breast_cancer\n",
        "from sklearn.model_selection import train_test_split\n",
        "from sklearn.preprocessing import StandardScaler\n",
        "from sklearn.metrics import accuracy_score"
      ],
      "metadata": {
        "id": "fNj0Fzs_0Rrv"
      },
      "execution_count": null,
      "outputs": []
    },
    {
      "cell_type": "markdown",
      "source": [
        "# Data Understanding"
      ],
      "metadata": {
        "id": "S4kWdedlzj7a"
      }
    },
    {
      "cell_type": "code",
      "source": [
        "data = load_breast_cancer()\n",
        "\n",
        "# convert data into dataframe to analyze dataset\n",
        "\n",
        "# x features\n",
        "df = pd.DataFrame(data = data.data, columns = data.feature_names)\n",
        "\n",
        "# y\n",
        "df['target'] = data.target"
      ],
      "metadata": {
        "id": "ls6vSMbp0bNr"
      },
      "execution_count": null,
      "outputs": []
    },
    {
      "cell_type": "code",
      "source": [
        "df.shape"
      ],
      "metadata": {
        "id": "Nfx64Moi05Do"
      },
      "execution_count": null,
      "outputs": []
    },
    {
      "cell_type": "code",
      "source": [
        "df.head()"
      ],
      "metadata": {
        "id": "Sqt26mzU1Agn"
      },
      "execution_count": null,
      "outputs": []
    },
    {
      "cell_type": "code",
      "source": [
        "df.describe()"
      ],
      "metadata": {
        "id": "RLEoRyM81Ftq"
      },
      "execution_count": null,
      "outputs": []
    },
    {
      "cell_type": "code",
      "source": [
        "df.hist(figsize=(20,20))\n",
        "plt.show()"
      ],
      "metadata": {
        "id": "CbmgOZ241Mxh"
      },
      "execution_count": null,
      "outputs": []
    },
    {
      "cell_type": "code",
      "source": [
        "df['target'].value_counts()\n",
        "#1 good result\n",
        "#0 bad result\n"
      ],
      "metadata": {
        "id": "hCSS0rpM1aKn"
      },
      "execution_count": null,
      "outputs": []
    },
    {
      "cell_type": "code",
      "source": [
        "sns.countplot(x='target',data=df)\n",
        "plt.show()"
      ],
      "metadata": {
        "id": "9fm9ViD41jhs"
      },
      "execution_count": null,
      "outputs": []
    },
    {
      "cell_type": "code",
      "source": [
        "df.isnull().values.any()"
      ],
      "metadata": {
        "id": "Otj1wIGo1q8C"
      },
      "execution_count": null,
      "outputs": []
    },
    {
      "cell_type": "code",
      "source": [
        "corr_matrix = df.corr()\n",
        "plt.figure(figsize=(10,10))\n",
        "sns.heatmap(corr_matrix, annot=True, fmt='.2f')\n",
        "plt.show()"
      ],
      "metadata": {
        "id": "1MaAv24R2SsU"
      },
      "execution_count": null,
      "outputs": []
    },
    {
      "cell_type": "markdown",
      "source": [
        "# Data preparation"
      ],
      "metadata": {
        "id": "aO5l9IZ43UsG"
      }
    },
    {
      "cell_type": "code",
      "source": [
        "data = load_breast_cancer()\n",
        "\n",
        "X=data.data\n",
        "y=data.target"
      ],
      "metadata": {
        "id": "wwk7tTaP3W9X"
      },
      "execution_count": null,
      "outputs": []
    },
    {
      "cell_type": "code",
      "source": [
        "X_train, X_val, y_train, y_val = train_test_split(X, y, test_size=0.2, random_state=42)"
      ],
      "metadata": {
        "id": "pectDh8f30Jx"
      },
      "execution_count": null,
      "outputs": []
    },
    {
      "cell_type": "code",
      "source": [
        "scaler = StandardScaler()\n",
        "\n",
        "X_train_scaled = scaler.fit_transform(X_train)\n",
        "\n",
        "X_val_scaled = scaler.transform(X_val)"
      ],
      "metadata": {
        "id": "JD1BhS5-41Vb"
      },
      "execution_count": null,
      "outputs": []
    },
    {
      "cell_type": "markdown",
      "source": [
        "# Update weights and bias manual"
      ],
      "metadata": {
        "id": "p_IS1FLYzupK"
      }
    },
    {
      "cell_type": "markdown",
      "source": [
        "## X, weights, bias and Learning Rate"
      ],
      "metadata": {
        "id": "R95viBTJzxFh"
      }
    },
    {
      "cell_type": "code",
      "source": [
        "lr = 0.01"
      ],
      "metadata": {
        "id": "ZLJUmrY11BWQ"
      },
      "execution_count": null,
      "outputs": []
    },
    {
      "cell_type": "code",
      "source": [
        "X_scaled = scaler.transform(X)"
      ],
      "metadata": {
        "id": "Uza_J2mH1DDu"
      },
      "execution_count": null,
      "outputs": []
    },
    {
      "cell_type": "code",
      "source": [
        "X_scaled[0:1]"
      ],
      "metadata": {
        "id": "HnV13r1g1Ivr"
      },
      "execution_count": null,
      "outputs": []
    },
    {
      "cell_type": "code",
      "source": [
        "weights = np.random.normal(0,1,30) # we create random weights, mean:0, standard deviation:1\n",
        "bias = 0.1"
      ],
      "metadata": {
        "id": "_XG14XHS1QB3"
      },
      "execution_count": null,
      "outputs": []
    },
    {
      "cell_type": "code",
      "source": [
        "weights"
      ],
      "metadata": {
        "id": "-BN-_k361h8h"
      },
      "execution_count": null,
      "outputs": []
    },
    {
      "cell_type": "markdown",
      "source": [
        "## z = np.dot(X, weights) + bias"
      ],
      "metadata": {
        "id": "-8Izd9kdz0PL"
      }
    },
    {
      "cell_type": "code",
      "source": [
        "z = np.dot(X_scaled, weights) + bias"
      ],
      "metadata": {
        "id": "Sx2QgyIR2BAy"
      },
      "execution_count": null,
      "outputs": []
    },
    {
      "cell_type": "code",
      "source": [
        "z[0:5]"
      ],
      "metadata": {
        "id": "HjIRfq7u2EuN"
      },
      "execution_count": null,
      "outputs": []
    },
    {
      "cell_type": "code",
      "source": [
        "len(z)"
      ],
      "metadata": {
        "id": "lnKBca_N3ABn"
      },
      "execution_count": null,
      "outputs": []
    },
    {
      "cell_type": "markdown",
      "source": [
        "## Sigmoid and y_prob"
      ],
      "metadata": {
        "id": "ANWvCyG_z6tf"
      }
    },
    {
      "cell_type": "code",
      "source": [
        "def sigmoid(z):\n",
        "    return 1/(1+np.exp(-z))"
      ],
      "metadata": {
        "id": "drJU4-nv3Cix"
      },
      "execution_count": null,
      "outputs": []
    },
    {
      "cell_type": "code",
      "source": [
        "y_prob = sigmoid(z)"
      ],
      "metadata": {
        "id": "hQfUOUwy3PhC"
      },
      "execution_count": null,
      "outputs": []
    },
    {
      "cell_type": "code",
      "source": [
        "len(y_prob)"
      ],
      "metadata": {
        "id": "jTI3NQbx3Scr"
      },
      "execution_count": null,
      "outputs": []
    },
    {
      "cell_type": "code",
      "source": [
        "print(y_prob[0:5])"
      ],
      "metadata": {
        "id": "N7ZPm_lb3XBN"
      },
      "execution_count": null,
      "outputs": []
    },
    {
      "cell_type": "markdown",
      "source": [
        "## Loss"
      ],
      "metadata": {
        "id": "Zew61W6Yz9Br"
      }
    },
    {
      "cell_type": "code",
      "source": [
        "def compute_loss(y, y_pred):\n",
        "    epsilon = 1e-5 # to avoid error we described as 1e-5\n",
        "    return -np.mean(y * np.log(y_pred + epsilon) + (1 - y) * np.log(1 - y_pred + epsilon))"
      ],
      "metadata": {
        "id": "OUXm_mM67P0H"
      },
      "execution_count": null,
      "outputs": []
    },
    {
      "cell_type": "code",
      "source": [
        "compute_loss(y,y_prob)"
      ],
      "metadata": {
        "id": "7NLBXzFj7a2F"
      },
      "execution_count": null,
      "outputs": []
    },
    {
      "cell_type": "markdown",
      "source": [
        "## Compute Gradients"
      ],
      "metadata": {
        "id": "DetFOeiTz-GD"
      }
    },
    {
      "cell_type": "code",
      "source": [
        "def compute_gradients(X,y, y_pred):\n",
        "  return np.dot(X.T, (y_pred - y)) / len(y)"
      ],
      "metadata": {
        "id": "r-eu1X8c7ly8"
      },
      "execution_count": null,
      "outputs": []
    },
    {
      "cell_type": "code",
      "source": [
        "grads = compute_gradients(X, y, y_prob)"
      ],
      "metadata": {
        "id": "R1T6Aw_I8Dk-"
      },
      "execution_count": null,
      "outputs": []
    },
    {
      "cell_type": "code",
      "source": [
        "grads[0:5]"
      ],
      "metadata": {
        "id": "CNM1hGj38H1y"
      },
      "execution_count": null,
      "outputs": []
    },
    {
      "cell_type": "code",
      "source": [
        "grads_b= np.mean(y_prob - y)"
      ],
      "metadata": {
        "id": "P-rg_InJ8LJi"
      },
      "execution_count": null,
      "outputs": []
    },
    {
      "cell_type": "code",
      "source": [
        "new_weights = weights - lr * grads"
      ],
      "metadata": {
        "id": "9fRvnirW8QQO"
      },
      "execution_count": null,
      "outputs": []
    },
    {
      "cell_type": "code",
      "source": [
        "len(new_weights)"
      ],
      "metadata": {
        "id": "gK4W16dq-PgA"
      },
      "execution_count": null,
      "outputs": []
    },
    {
      "cell_type": "code",
      "source": [
        "new_weights[0:5]"
      ],
      "metadata": {
        "id": "B9YzwUTX8ZjT"
      },
      "execution_count": null,
      "outputs": []
    },
    {
      "cell_type": "code",
      "source": [
        "new_bias = bias - lr * grads_b"
      ],
      "metadata": {
        "id": "ebDIAtB98WCy"
      },
      "execution_count": null,
      "outputs": []
    },
    {
      "cell_type": "code",
      "source": [
        "print(new_bias)"
      ],
      "metadata": {
        "id": "Xf-iBt9Y-Ry8"
      },
      "execution_count": null,
      "outputs": []
    },
    {
      "cell_type": "markdown",
      "source": [
        "# Functions"
      ],
      "metadata": {
        "id": "2AS3X0sPz_qe"
      }
    },
    {
      "cell_type": "markdown",
      "source": [
        "# Training"
      ],
      "metadata": {
        "id": "Ns8MktWz0AxX"
      }
    },
    {
      "cell_type": "markdown",
      "source": [
        "# Performance Evaluation"
      ],
      "metadata": {
        "id": "Vuw8lp_W0Bo7"
      }
    }
  ]
}
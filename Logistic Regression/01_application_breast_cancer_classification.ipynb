{
  "nbformat": 4,
  "nbformat_minor": 0,
  "metadata": {
    "colab": {
      "provenance": [],
      "authorship_tag": "ABX9TyOwehii2U/261tvg1WiKGdI",
      "include_colab_link": true
    },
    "kernelspec": {
      "name": "python3",
      "display_name": "Python 3"
    },
    "language_info": {
      "name": "python"
    }
  },
  "cells": [
    {
      "cell_type": "markdown",
      "metadata": {
        "id": "view-in-github",
        "colab_type": "text"
      },
      "source": [
        "<a href=\"https://colab.research.google.com/github/kmk4444/Miuul_deep_learning/blob/main/Logistic%20Regression/01_application_breast_cancer_classification.ipynb\" target=\"_parent\"><img src=\"https://colab.research.google.com/assets/colab-badge.svg\" alt=\"Open In Colab\"/></a>"
      ]
    },
    {
      "cell_type": "markdown",
      "source": [
        "# Problem: Breast Cancer Classification"
      ],
      "metadata": {
        "id": "yUA2qPA_zf45"
      }
    },
    {
      "cell_type": "markdown",
      "source": [
        "# Import"
      ],
      "metadata": {
        "id": "4LCAtv66zibZ"
      }
    },
    {
      "cell_type": "code",
      "source": [
        "import numpy as np\n",
        "import pandas as pd\n",
        "import matplotlib.pyplot as plt\n",
        "import seaborn as sns\n",
        "from sklearn.datasets import load_breast_cancer\n",
        "from sklearn.model_selection import train_test_split\n",
        "from sklearn.preprocessing import StandardScaler\n",
        "from sklearn.metrics import accuracy_score"
      ],
      "metadata": {
        "id": "fNj0Fzs_0Rrv"
      },
      "execution_count": null,
      "outputs": []
    },
    {
      "cell_type": "markdown",
      "source": [
        "# Data Understanding"
      ],
      "metadata": {
        "id": "S4kWdedlzj7a"
      }
    },
    {
      "cell_type": "code",
      "source": [
        "data = load_breast_cancer()\n",
        "\n",
        "# convert data into dataframe to analyze dataset\n",
        "\n",
        "# x features\n",
        "df = pd.DataFrame(data = data.data, columns = data.feature_names)\n",
        "\n",
        "# y\n",
        "df['target'] = data.target"
      ],
      "metadata": {
        "id": "ls6vSMbp0bNr"
      },
      "execution_count": null,
      "outputs": []
    },
    {
      "cell_type": "code",
      "source": [
        "df.shape"
      ],
      "metadata": {
        "id": "Nfx64Moi05Do"
      },
      "execution_count": null,
      "outputs": []
    },
    {
      "cell_type": "code",
      "source": [
        "df.head()"
      ],
      "metadata": {
        "id": "Sqt26mzU1Agn"
      },
      "execution_count": null,
      "outputs": []
    },
    {
      "cell_type": "code",
      "source": [
        "df.describe()"
      ],
      "metadata": {
        "id": "RLEoRyM81Ftq"
      },
      "execution_count": null,
      "outputs": []
    },
    {
      "cell_type": "code",
      "source": [
        "df.hist(figsize=(20,20))\n",
        "plt.show()"
      ],
      "metadata": {
        "id": "CbmgOZ241Mxh"
      },
      "execution_count": null,
      "outputs": []
    },
    {
      "cell_type": "code",
      "source": [
        "df['target'].value_counts()\n",
        "#1 good result\n",
        "#0 bad result\n"
      ],
      "metadata": {
        "id": "hCSS0rpM1aKn"
      },
      "execution_count": null,
      "outputs": []
    },
    {
      "cell_type": "code",
      "source": [
        "sns.countplot(x='target',data=df)\n",
        "plt.show()"
      ],
      "metadata": {
        "id": "9fm9ViD41jhs"
      },
      "execution_count": null,
      "outputs": []
    },
    {
      "cell_type": "code",
      "source": [
        "df.isnull().values.any()"
      ],
      "metadata": {
        "id": "Otj1wIGo1q8C"
      },
      "execution_count": null,
      "outputs": []
    },
    {
      "cell_type": "code",
      "source": [
        "corr_matrix = df.corr()\n",
        "plt.figure(figsize=(10,10))\n",
        "sns.heatmap(corr_matrix, annot=True, fmt='.2f')\n",
        "plt.show()"
      ],
      "metadata": {
        "id": "1MaAv24R2SsU"
      },
      "execution_count": null,
      "outputs": []
    },
    {
      "cell_type": "markdown",
      "source": [
        "# Data preparation"
      ],
      "metadata": {
        "id": "aO5l9IZ43UsG"
      }
    },
    {
      "cell_type": "code",
      "source": [
        "data = load_breast_cancer()\n",
        "\n",
        "X=data.data\n",
        "y=data.target"
      ],
      "metadata": {
        "id": "wwk7tTaP3W9X"
      },
      "execution_count": null,
      "outputs": []
    },
    {
      "cell_type": "code",
      "source": [
        "X_train, X_val, y_train, y_val = train_test_split(X, y, test_size=0.2, random_state=42)"
      ],
      "metadata": {
        "id": "pectDh8f30Jx"
      },
      "execution_count": null,
      "outputs": []
    },
    {
      "cell_type": "code",
      "source": [
        "scaler = StandardScaler()\n",
        "\n",
        "X_train_scaled = scaler.fit_transform(X_train)\n",
        "\n",
        "X_val_scaled = scaler.transform(X_val)"
      ],
      "metadata": {
        "id": "JD1BhS5-41Vb"
      },
      "execution_count": null,
      "outputs": []
    },
    {
      "cell_type": "markdown",
      "source": [
        "# Update weights and bias manual"
      ],
      "metadata": {
        "id": "p_IS1FLYzupK"
      }
    },
    {
      "cell_type": "markdown",
      "source": [
        "## X, weights, bias and Learning Rate"
      ],
      "metadata": {
        "id": "R95viBTJzxFh"
      }
    },
    {
      "cell_type": "markdown",
      "source": [
        "## z = np.dot(X, weights) + bias"
      ],
      "metadata": {
        "id": "-8Izd9kdz0PL"
      }
    },
    {
      "cell_type": "markdown",
      "source": [
        "## Sigmoid and y_prob"
      ],
      "metadata": {
        "id": "ANWvCyG_z6tf"
      }
    },
    {
      "cell_type": "markdown",
      "source": [
        "## Loss"
      ],
      "metadata": {
        "id": "Zew61W6Yz9Br"
      }
    },
    {
      "cell_type": "markdown",
      "source": [
        "## Compute Gradients"
      ],
      "metadata": {
        "id": "DetFOeiTz-GD"
      }
    },
    {
      "cell_type": "markdown",
      "source": [
        "# Functions"
      ],
      "metadata": {
        "id": "2AS3X0sPz_qe"
      }
    },
    {
      "cell_type": "markdown",
      "source": [
        "# Training"
      ],
      "metadata": {
        "id": "Ns8MktWz0AxX"
      }
    },
    {
      "cell_type": "markdown",
      "source": [
        "# Performance Evaluation"
      ],
      "metadata": {
        "id": "Vuw8lp_W0Bo7"
      }
    }
  ]
}
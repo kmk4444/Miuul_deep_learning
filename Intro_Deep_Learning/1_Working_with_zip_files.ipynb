{
  "nbformat": 4,
  "nbformat_minor": 0,
  "metadata": {
    "colab": {
      "provenance": [],
      "mount_file_id": "https://github.com/kmk4444/Miuul_deep_learning/blob/main/1_Working_with_zip_files.ipynb",
      "authorship_tag": "ABX9TyMAurTD8T7TBG+/2yS2C1wB",
      "include_colab_link": true
    },
    "kernelspec": {
      "name": "python3",
      "display_name": "Python 3"
    },
    "language_info": {
      "name": "python"
    }
  },
  "cells": [
    {
      "cell_type": "markdown",
      "metadata": {
        "id": "view-in-github",
        "colab_type": "text"
      },
      "source": [
        "<a href=\"https://colab.research.google.com/github/kmk4444/Miuul_deep_learning/blob/main/1_Working_with_zip_files.ipynb\" target=\"_parent\"><img src=\"https://colab.research.google.com/assets/colab-badge.svg\" alt=\"Open In Colab\"/></a>"
      ]
    },
    {
      "cell_type": "markdown",
      "source": [
        "- Extract zip file and delete all files in a directory to delete a folder."
      ],
      "metadata": {
        "id": "OSx__OPLM6q-"
      }
    },
    {
      "cell_type": "code",
      "execution_count": 13,
      "metadata": {
        "id": "e-r7JOK-rkr9"
      },
      "outputs": [],
      "source": [
        "import zipfile\n",
        "import os\n",
        "\n",
        "def unzip_file(zip_file_path, extract_to_folder):\n",
        "  if not os.path.exists(zip_file_path):\n",
        "    print(f\"The zip file {zip_file_path} does not exist.\")\n",
        "    return\n",
        "\n",
        "  if not os.path.exists(extract_to_folder):\n",
        "    os.makedirs(extract_to_folder)\n",
        "\n",
        "  with zipfile.ZipFile(zip_file_path, 'r') as zip_ref:\n",
        "    zip_ref.extractall(extract_to_folder)\n",
        "    print(f\"Files extracted to {extract_to_folder}\")"
      ]
    },
    {
      "cell_type": "code",
      "source": [
        "zip_file_path = \"/content/xjL1dOBlTgOOdJCxEWQK_face_recognition_files.zip\""
      ],
      "metadata": {
        "id": "ig6BOSKLySJ1"
      },
      "execution_count": 14,
      "outputs": []
    },
    {
      "cell_type": "code",
      "source": [
        "extract_to_folder = \"/content\""
      ],
      "metadata": {
        "id": "UZCCH6bRyXz-"
      },
      "execution_count": 15,
      "outputs": []
    },
    {
      "cell_type": "code",
      "source": [
        "unzip_file(zip_file_path,extract_to_folder)"
      ],
      "metadata": {
        "colab": {
          "base_uri": "https://localhost:8080/"
        },
        "id": "k7pUuTvnMhoI",
        "outputId": "eabdfb15-ae0e-4597-f1db-ff3fd3cd3279"
      },
      "execution_count": 20,
      "outputs": [
        {
          "output_type": "stream",
          "name": "stdout",
          "text": [
            "Files extracted to /content\n"
          ]
        }
      ]
    },
    {
      "cell_type": "markdown",
      "source": [
        "# delete all files in directory"
      ],
      "metadata": {
        "id": "pSpyhWSRyczh"
      }
    },
    {
      "cell_type": "code",
      "source": [
        "import shutil\n",
        "import os\n",
        "\n",
        "def delete_all_files_in_directory(directory):\n",
        "  for filename in os.listdir(directory):\n",
        "    file_path = os.path.join(directory, filename)\n",
        "    try:\n",
        "      if os.path.isfile(file_path) or os.path.islink(file_path):\n",
        "        os.unlink(file_path)\n",
        "      elif os.path.isdir(file_path):\n",
        "        shutil.rmtree(file_path)\n",
        "    except Exception as e:\n",
        "      print('Failed to delete %s. Reason: %s' % (file_path, e))"
      ],
      "metadata": {
        "id": "-18eEr6Pyb7h"
      },
      "execution_count": 5,
      "outputs": []
    },
    {
      "cell_type": "code",
      "source": [
        "directory = \"/content/face_recognition_files/faces_assignment\""
      ],
      "metadata": {
        "id": "6fB05xSH2eqP"
      },
      "execution_count": 6,
      "outputs": []
    },
    {
      "cell_type": "code",
      "source": [
        "directory = \"/content/face_recognition_files/faces_lecture\""
      ],
      "metadata": {
        "id": "YYl6xa7cMwNY"
      },
      "execution_count": 8,
      "outputs": []
    },
    {
      "cell_type": "code",
      "source": [
        "delete_all_files_in_directory(directory)"
      ],
      "metadata": {
        "id": "JaM3F9V02kAH"
      },
      "execution_count": 9,
      "outputs": []
    },
    {
      "cell_type": "markdown",
      "source": [
        "# colab drive"
      ],
      "metadata": {
        "id": "PSIZ2bbBRFJ3"
      }
    },
    {
      "cell_type": "code",
      "source": [
        "from google.colab import drive\n",
        "drive.mount('/gdrive')"
      ],
      "metadata": {
        "id": "cEcnbNviRGU2",
        "outputId": "0895fba3-4119-45f5-af4f-3b1cc301b5f7",
        "colab": {
          "base_uri": "https://localhost:8080/"
        }
      },
      "execution_count": 10,
      "outputs": [
        {
          "output_type": "stream",
          "name": "stdout",
          "text": [
            "Mounted at /gdrive\n"
          ]
        }
      ]
    }
  ]
}

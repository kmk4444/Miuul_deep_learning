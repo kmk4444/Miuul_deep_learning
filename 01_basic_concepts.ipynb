{
  "nbformat": 4,
  "nbformat_minor": 0,
  "metadata": {
    "colab": {
      "provenance": [],
      "authorship_tag": "ABX9TyP725hz2lHAqQCqYULbMjEQ",
      "include_colab_link": true
    },
    "kernelspec": {
      "name": "python3",
      "display_name": "Python 3"
    },
    "language_info": {
      "name": "python"
    }
  },
  "cells": [
    {
      "cell_type": "markdown",
      "metadata": {
        "id": "view-in-github",
        "colab_type": "text"
      },
      "source": [
        "<a href=\"https://colab.research.google.com/github/kmk4444/Miuul_deep_learning/blob/main/01_basic_concepts.ipynb\" target=\"_parent\"><img src=\"https://colab.research.google.com/assets/colab-badge.svg\" alt=\"Open In Colab\"/></a>"
      ]
    },
    {
      "cell_type": "markdown",
      "source": [
        "# Imports"
      ],
      "metadata": {
        "id": "dE-j-UvFIakp"
      }
    },
    {
      "cell_type": "code",
      "execution_count": 1,
      "metadata": {
        "id": "a4HTdlgKLx2c"
      },
      "outputs": [],
      "source": [
        "import numpy as np\n",
        "import pandas as pd\n",
        "from sklearn.model_selection import train_test_split\n",
        "from sklearn.preprocessing import StandardScaler"
      ]
    },
    {
      "cell_type": "markdown",
      "source": [
        "# Data preparation"
      ],
      "metadata": {
        "id": "5U3sjaNUIeMM"
      }
    },
    {
      "cell_type": "code",
      "source": [
        "def preprocess_data(filepath):\n",
        "\n",
        "    data = pd.read_csv(filepath)\n",
        "\n",
        "    scaler = StandardScaler()\n",
        "\n",
        "    X = scaler.fit_transform(data.drop('Outcome', axis=1))\n",
        "\n",
        "    y = data['Outcome'].values\n",
        "\n",
        "    return X, y\n",
        "\n",
        "X, y = preprocess_data('/content/diabetes.csv')\n",
        "\n",
        "\n",
        "X_train, X_val, y_train, y_val = train_test_split(X, y, test_size=0.2, random_state=42)"
      ],
      "metadata": {
        "id": "59W_CmyaIfY5"
      },
      "execution_count": 21,
      "outputs": []
    },
    {
      "cell_type": "markdown",
      "source": [
        "# Activation Functions, Weights and Biases"
      ],
      "metadata": {
        "id": "M4188KhJJm8-"
      }
    },
    {
      "cell_type": "code",
      "source": [
        "def relu(z):\n",
        "    return np.maximum(0, z)\n",
        "\n",
        "def sigmoid(z):\n",
        "    return 1 / (1 + np.exp(-z))\n",
        "\n",
        "weights_hidden = np.array([[0.1, 0.2], [0.3, 0.4], [0.5, 0.6], [0.7, 0.8], [0.1, 0.2],\n",
        "                           [0.3, 0.4], [0.5, 0.6], [0.7, 0.8]])\n",
        "\n",
        "biases_hidden = np.array([0.1, 0.2])\n",
        "\n",
        "weights_output = np.array([[0.3], [0.4]])\n",
        "\n",
        "bias_output = np.array([0.5])"
      ],
      "metadata": {
        "id": "J6HwUGVYJnwz"
      },
      "execution_count": 22,
      "outputs": []
    },
    {
      "cell_type": "markdown",
      "source": [
        "# Forward Propagation"
      ],
      "metadata": {
        "id": "vVI3aQLkJ4uk"
      }
    },
    {
      "cell_type": "code",
      "source": [
        "def forward_pass(X, weights_hidden, biases_hidden, weights_output, bias_output):\n",
        "\n",
        "    z_hidden = np.dot(X, weights_hidden) + biases_hidden\n",
        "    a_hidden = relu(z_hidden)\n",
        "    print(a_hidden[:5].flatten())\n",
        "    z_output = np.dot(a_hidden, weights_output) + bias_output\n",
        "    a_output = sigmoid(z_output)\n",
        "\n",
        "    return a_output"
      ],
      "metadata": {
        "id": "A5sHbFrQJ6f8"
      },
      "execution_count": 23,
      "outputs": []
    },
    {
      "cell_type": "code",
      "source": [
        "y_pred_train = forward_pass(X_train, weights_hidden, biases_hidden, weights_output, bias_output)"
      ],
      "metadata": {
        "id": "GvtxTgY5KyL6",
        "outputId": "a267ada7-d371-4736-ccd5-8035ce8cc1cb",
        "colab": {
          "base_uri": "https://localhost:8080/"
        }
      },
      "execution_count": 24,
      "outputs": [
        {
          "output_type": "stream",
          "name": "stdout",
          "text": [
            "[0.         0.         2.66280187 3.24627948 0.         0.\n",
            " 0.0758077  0.         2.49128411 3.32611873]\n"
          ]
        }
      ]
    },
    {
      "cell_type": "code",
      "source": [
        "print(y_pred_train[:5].flatten())"
      ],
      "metadata": {
        "id": "RSqhXhLRK6uv",
        "outputId": "57138418-edec-477b-a773-9631e4842349",
        "colab": {
          "base_uri": "https://localhost:8080/"
        }
      },
      "execution_count": 25,
      "outputs": [
        {
          "output_type": "stream",
          "name": "stdout",
          "text": [
            "[0.62245933 0.93069099 0.62245933 0.62778879 0.92942123]\n"
          ]
        }
      ]
    },
    {
      "cell_type": "markdown",
      "source": [
        "# Train Binary Log Loss"
      ],
      "metadata": {
        "id": "_wUf-EZGK8wQ"
      }
    },
    {
      "cell_type": "code",
      "source": [
        "def binary_log_loss(y_true, y_pred):\n",
        "    epsilon = 1e-15\n",
        "    y_pred = np.clip(y_pred, epsilon, 1 - epsilon)\n",
        "    return -np.mean(y_true * np.log(y_pred) + (1 - y_true) * np.log(1 - y_pred))"
      ],
      "metadata": {
        "id": "5foT0muKK9fS"
      },
      "execution_count": 26,
      "outputs": []
    },
    {
      "cell_type": "code",
      "source": [
        "loss_train = binary_log_loss(y_train, y_pred_train)\n",
        "\n",
        "print(\"Train Binary log loss:\", loss_train)"
      ],
      "metadata": {
        "id": "mwlcPtZDLWG9",
        "outputId": "dc3408dc-987a-4a33-f94e-cd9d4f3ec016",
        "colab": {
          "base_uri": "https://localhost:8080/"
        }
      },
      "execution_count": 27,
      "outputs": [
        {
          "output_type": "stream",
          "name": "stdout",
          "text": [
            "Train Binary log loss: 1.0353319678415285\n"
          ]
        }
      ]
    },
    {
      "cell_type": "markdown",
      "source": [
        "# Validation Binary Log Loss"
      ],
      "metadata": {
        "id": "EetVB72CL4xy"
      }
    },
    {
      "cell_type": "code",
      "source": [
        "y_pred_val = forward_pass(X_val, weights_hidden, biases_hidden, weights_output, bias_output)"
      ],
      "metadata": {
        "id": "GUSHmPRdL5re",
        "outputId": "68f3a629-828a-407b-ce01-eebdfbb86388",
        "colab": {
          "base_uri": "https://localhost:8080/"
        }
      },
      "execution_count": 28,
      "outputs": [
        {
          "output_type": "stream",
          "name": "stdout",
          "text": [
            "[0.89939167 1.20405664 0.         0.         0.         0.\n",
            " 0.         0.         0.4276528  0.61548067]\n"
          ]
        }
      ]
    },
    {
      "cell_type": "code",
      "source": [
        "loss_val = binary_log_loss(y_val, y_pred_val)\n",
        "\n",
        "print(\"Validation Set Binary log loss:\", loss_val)"
      ],
      "metadata": {
        "id": "BhK9C8exL9dx",
        "outputId": "080374e4-934e-4c9b-a750-2c83c710e074",
        "colab": {
          "base_uri": "https://localhost:8080/"
        }
      },
      "execution_count": 29,
      "outputs": [
        {
          "output_type": "stream",
          "name": "stdout",
          "text": [
            "Validation Set Binary log loss: 1.092272605688249\n"
          ]
        }
      ]
    }
  ]
}
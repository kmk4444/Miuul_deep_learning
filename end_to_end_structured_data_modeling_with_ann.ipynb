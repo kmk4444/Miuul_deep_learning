{
  "nbformat": 4,
  "nbformat_minor": 0,
  "metadata": {
    "colab": {
      "provenance": [],
      "authorship_tag": "ABX9TyMqMoNm3CkKPgCV1C2rCHko",
      "include_colab_link": true
    },
    "kernelspec": {
      "name": "python3",
      "display_name": "Python 3"
    },
    "language_info": {
      "name": "python"
    }
  },
  "cells": [
    {
      "cell_type": "markdown",
      "metadata": {
        "id": "view-in-github",
        "colab_type": "text"
      },
      "source": [
        "<a href=\"https://colab.research.google.com/github/kmk4444/Miuul_deep_learning/blob/main/end_to_end_structured_data_modeling_with_ann.ipynb\" target=\"_parent\"><img src=\"https://colab.research.google.com/assets/colab-badge.svg\" alt=\"Open In Colab\"/></a>"
      ]
    },
    {
      "cell_type": "markdown",
      "source": [
        "# End to End Structured Data Modeling with ANN"
      ],
      "metadata": {
        "id": "-zDqCYpqOi4j"
      }
    },
    {
      "cell_type": "code",
      "execution_count": 1,
      "metadata": {
        "id": "lGNeot9pL7Ux",
        "outputId": "16dadb81-2206-47fa-eba9-10fd4c37961a",
        "colab": {
          "base_uri": "https://localhost:8080/"
        }
      },
      "outputs": [
        {
          "output_type": "stream",
          "name": "stdout",
          "text": [
            "Keras Current Version: 3.8.0 Tensorflow Current Version: 2.18.0\n"
          ]
        }
      ],
      "source": [
        "import keras\n",
        "import tensorflow as tf\n",
        "print(\"Keras Current Version:\", keras.__version__, \"Tensorflow Current Version:\", tf.__version__)"
      ]
    },
    {
      "cell_type": "code",
      "source": [
        "# !pip uninstall tf-keras"
      ],
      "metadata": {
        "id": "342KyRRHOrdX"
      },
      "execution_count": null,
      "outputs": []
    },
    {
      "cell_type": "code",
      "source": [
        "# !pip install tensorflow==2.16.1"
      ],
      "metadata": {
        "id": "3IYc3FbQOsUK"
      },
      "execution_count": null,
      "outputs": []
    },
    {
      "cell_type": "markdown",
      "source": [
        "# Data Preparation"
      ],
      "metadata": {
        "id": "sNCucfJ9OtZS"
      }
    },
    {
      "cell_type": "markdown",
      "source": [
        "## Imports and Settings"
      ],
      "metadata": {
        "id": "kiy-u8dlOwwT"
      }
    },
    {
      "cell_type": "code",
      "source": [
        "import numpy as np\n",
        "import pandas as pd\n",
        "from joblib import dump, load\n",
        "import random\n",
        "import matplotlib.pyplot as plt\n",
        "from sklearn.preprocessing import StandardScaler\n",
        "from sklearn.model_selection import train_test_split\n",
        "import tensorflow as tf\n",
        "from tensorflow import keras\n",
        "from tensorflow.keras.optimizers import SGD\n",
        "from tensorflow.keras.models import Sequential, load_model\n",
        "from tensorflow.keras.regularizers import l2\n",
        "from tensorflow.keras.callbacks import EarlyStopping, ModelCheckpoint\n",
        "from tensorflow.keras.layers import Input, Dense, Dropout, BatchNormalization\n",
        "\n",
        "random.seed(46)\n",
        "np.random.seed(46)\n",
        "tf.random.set_seed(46)\n",
        "\n",
        "# Ortam ayarları ve veri yükleme\n",
        "data_path = '/content/diabetes.csv'"
      ],
      "metadata": {
        "id": "rv9BslmyOzQd"
      },
      "execution_count": 2,
      "outputs": []
    },
    {
      "cell_type": "markdown",
      "source": [
        "## Normalizing Inputs and Save the Scaler"
      ],
      "metadata": {
        "id": "oeA3KF_NPRSj"
      }
    },
    {
      "cell_type": "code",
      "source": [
        "# Define a function to preprocess data from a given CSV file\n",
        "def preprocess_data(filepath):\n",
        "\n",
        "  # Read the CSV file into a DataFrame using Pandas\n",
        "  data = pd.read_csv(filepath)\n",
        "\n",
        "  # Create an instance of StandardScaler to standardize features\n",
        "  scaler = StandardScaler()\n",
        "\n",
        "  # Scale the features (all columns except 'Outcome') and store them in X\n",
        "  # 'fit_transform' calculates mean and std, then scales the data\n",
        "  X = scaler.fit_transform(data.drop('Outcome', axis=1))\n",
        "\n",
        "  # Extract the 'Outcome' column as labels and convert it to a NumPy array\n",
        "  y = data['Outcome'].values\n",
        "\n",
        "  # Save the trained scaler object to a file for future use\n",
        "  dump(scaler, 'scaler.joblib')\n",
        "\n",
        "  # Return the scaled features (X) and labels (y)\n",
        "  return X, y\n"
      ],
      "metadata": {
        "id": "PBnCuvyMPSrV"
      },
      "execution_count": 3,
      "outputs": []
    },
    {
      "cell_type": "code",
      "source": [
        "X, y = preprocess_data(data_path)"
      ],
      "metadata": {
        "id": "ylk2i7u1Po2X"
      },
      "execution_count": 4,
      "outputs": []
    },
    {
      "cell_type": "markdown",
      "source": [
        "## Train Validation and Tensorflow Dataset"
      ],
      "metadata": {
        "id": "oKG1bfEmSJO7"
      }
    },
    {
      "cell_type": "code",
      "source": [
        "X_train, X_val, y_train, y_val = train_test_split(X, y, test_size=0.2, random_state=42)"
      ],
      "metadata": {
        "id": "sypwjtTbPq70"
      },
      "execution_count": 7,
      "outputs": []
    },
    {
      "cell_type": "code",
      "source": [
        "# Define a function to prepare TensorFlow datasets for training and validation\n",
        "def prepare_datasets(X_train, X_val, y_train, y_val, batch_size=None):\n",
        "\n",
        "  # If no batch size is provided, use the entire training set as a single batch\n",
        "  if batch_size is None:\n",
        "    batch_size = len(X_train)\n",
        "\n",
        "  # Create a TensorFlow dataset from training features and labels\n",
        "  train_dataset = tf.data.Dataset.from_tensor_slices((X_train, y_train))\n",
        "\n",
        "  # Shuffle the training dataset and divide it into batches\n",
        "  # buffer_size determines how much data to shuffle, here it's set to the size of the training set\n",
        "  train_dataset = train_dataset.shuffle(buffer_size=len(X_train)).batch(batch_size)\n",
        "\n",
        "  # Create a TensorFlow dataset from validation features and labels\n",
        "  val_dataset = tf.data.Dataset.from_tensor_slices((X_val, y_val))\n",
        "\n",
        "  # Divide the validation dataset into batches without shuffling\n",
        "  val_dataset = val_dataset.batch(batch_size)\n",
        "\n",
        "  # Return the prepared training and validation datasets\n",
        "  return train_dataset, val_dataset\n"
      ],
      "metadata": {
        "id": "GbU6gOuJSQlr"
      },
      "execution_count": 8,
      "outputs": []
    },
    {
      "cell_type": "code",
      "source": [
        "train_ds, val_ds = prepare_datasets(X_train, X_val, y_train, y_val)"
      ],
      "metadata": {
        "id": "zOuzmMCvSyeU"
      },
      "execution_count": 9,
      "outputs": []
    },
    {
      "cell_type": "code",
      "source": [
        "train_ds"
      ],
      "metadata": {
        "id": "EDebVwZ5S33D",
        "outputId": "fc2a67b6-c167-49d5-ed6a-41c3179373d9",
        "colab": {
          "base_uri": "https://localhost:8080/"
        }
      },
      "execution_count": 10,
      "outputs": [
        {
          "output_type": "execute_result",
          "data": {
            "text/plain": [
              "<_BatchDataset element_spec=(TensorSpec(shape=(None, 8), dtype=tf.float64, name=None), TensorSpec(shape=(None,), dtype=tf.int64, name=None))>"
            ]
          },
          "metadata": {},
          "execution_count": 10
        }
      ]
    },
    {
      "cell_type": "markdown",
      "source": [
        "# Modeling\n"
      ],
      "metadata": {
        "id": "TFwzrrSpWGci"
      }
    },
    {
      "cell_type": "markdown",
      "source": [
        "## Build the Model"
      ],
      "metadata": {
        "id": "nTZwVLloWHMZ"
      }
    },
    {
      "cell_type": "code",
      "source": [
        "# Define a Sequential model using the Keras API\n",
        "model = Sequential([\n",
        "\n",
        "    # Input layer: Specifies the shape of the input data\n",
        "    # shape=(train_ds.element_spec[0].shape[1],) gets the number of features from the training dataset\n",
        "    Input(shape=(train_ds.element_spec[0].shape[1],)),\n",
        "\n",
        "    # First Dense layer with 50 neurons and ReLU activation function\n",
        "    # kernel_regularizer=l2(0.001) applies L2 regularization to prevent overfitting\n",
        "    Dense(50, activation='relu', kernel_regularizer=l2(0.001)),\n",
        "\n",
        "    # Batch Normalization: Normalizes the outputs of the previous layer for faster and more stable training\n",
        "    BatchNormalization(),\n",
        "\n",
        "    # Dropout layer: Randomly sets 50% of inputs to zero during training to prevent overfitting\n",
        "    Dropout(0.5),\n",
        "\n",
        "    # Output layer: A single neuron with sigmoid activation function for binary classification\n",
        "    Dense(1, activation='sigmoid')\n",
        "])\n"
      ],
      "metadata": {
        "id": "3n9FVH_lWKDq"
      },
      "execution_count": 11,
      "outputs": []
    },
    {
      "cell_type": "code",
      "source": [
        "# Create an SGD optimizer with a learning rate of 0.01 and no momentum\n",
        "# SGD (Stochastic Gradient Descent) is an optimization algorithm to update model weights\n",
        "optimizer = SGD(learning_rate=0.01, momentum=0.0)\n",
        "\n",
        "# Compile the model with the following configurations:\n",
        "model.compile(\n",
        "    # Use the defined SGD optimizer to adjust model weights during training\n",
        "    optimizer=optimizer,\n",
        "\n",
        "    # Specify the loss function as binary_crossentropy for binary classification tasks\n",
        "    # This function measures the difference between predicted and actual labels\n",
        "    loss=\"binary_crossentropy\",\n",
        "\n",
        "    # Define metrics to monitor during training and evaluation:\n",
        "    # \"accuracy\" to measure the percentage of correct predictions\n",
        "    # \"AUC\" (Area Under the Curve) to evaluate the model's ability to distinguish between classes\n",
        "    metrics=[\"accuracy\", \"AUC\"]\n",
        ")\n"
      ],
      "metadata": {
        "id": "ZZvIfZcQWiVc"
      },
      "execution_count": null,
      "outputs": []
    }
  ]
}